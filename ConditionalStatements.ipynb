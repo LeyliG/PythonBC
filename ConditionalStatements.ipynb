{
 "cells": [
  {
   "cell_type": "code",
   "execution_count": null,
   "metadata": {},
   "outputs": [],
   "source": [
    "hours = input('Enter time to do job: ')\n",
    "hours = float(hours)\n",
    "if hours <= 2:\n",
    "    print(hours, ' is a short time')\n",
    "elif hours <= 5:\n",
    "    print(hours, ' is a medium-sized time')\n",
    "else:\n",
    "    print(hours, ' is a long time')"
   ]
  },
  {
   "cell_type": "code",
   "execution_count": null,
   "metadata": {
    "collapsed": true
   },
   "outputs": [],
   "source": [
    "valid_input = True\n",
    "costVar = raw_input('Enter variable cost: ')\n",
    "try:\n",
    "    costVar = float(costVar)\n",
    "except:\n",
    "    valid_input = False\n",
    "    \n",
    "print(valid_input)"
   ]
  },
  {
   "cell_type": "code",
   "execution_count": null,
   "metadata": {},
   "outputs": [],
   "source": [
    "valid_input = True\n",
    "\n",
    "costVar = input('Enter variable cost: ')\n",
    "try:\n",
    "    costVar = float(costVar)\n",
    "except:\n",
    "    valid_input = False\n",
    "    \n",
    "costFixed = input('Enter fixed cost: ')\n",
    "try:\n",
    "    costFixed = float(costFixed)\n",
    "except:\n",
    "    valid_input = False\n",
    "    \n",
    "hoursLabor = input('Enter labor hours: ')\n",
    "try:\n",
    "    hoursLabor = float(hoursLabor)\n",
    "except:\n",
    "    valid_input = False\n",
    "    \n",
    "if valid_input == True:\n",
    "    costTotal = costFixed + hoursLabor * costVar\n",
    "    print('Total cost = ',costTotal)\n",
    "else:\n",
    "    print(\"Invalid input\")"
   ]
  },
  {
   "cell_type": "code",
   "execution_count": null,
   "metadata": {},
   "outputs": [],
   "source": [
    "y = 1 \n",
    "x = 0\n",
    "print(y<2 and x<5 and y/x > 10)"
   ]
  },
  {
   "cell_type": "code",
   "execution_count": null,
   "metadata": {},
   "outputs": [],
   "source": [
    "y = 1 \n",
    "x = 0\n",
    "print(y<2 and x != 0 and x<5 and y/x > 10)"
   ]
  },
  {
   "cell_type": "code",
   "execution_count": null,
   "metadata": {
    "collapsed": true
   },
   "outputs": [],
   "source": []
  }
 ],
 "metadata": {
  "kernelspec": {
   "display_name": "Python 3",
   "language": "python",
   "name": "python3"
  },
  "language_info": {
   "codemirror_mode": {
    "name": "ipython",
    "version": 3
   },
   "file_extension": ".py",
   "mimetype": "text/x-python",
   "name": "python",
   "nbconvert_exporter": "python",
   "pygments_lexer": "ipython3",
   "version": "3.6.3"
  }
 },
 "nbformat": 4,
 "nbformat_minor": 2
}
