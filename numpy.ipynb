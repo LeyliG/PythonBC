{
 "cells": [
  {
   "cell_type": "markdown",
   "metadata": {},
   "source": [
    "# Import numpy Package"
   ]
  },
  {
   "cell_type": "markdown",
   "metadata": {},
   "source": [
    "The numpy package is included in Anaconda, but you do need to explicitly import it in order to use it, both in Jupyter and Spyder.\n",
    "\n",
    "Note that the alias np is universally used, so it is a good idea to use this alias as well."
   ]
  },
  {
   "cell_type": "code",
   "execution_count": null,
   "metadata": {
    "collapsed": true
   },
   "outputs": [],
   "source": [
    "import numpy as np"
   ]
  },
  {
   "cell_type": "markdown",
   "metadata": {},
   "source": [
    "# How to Define numpy Arrays"
   ]
  },
  {
   "cell_type": "markdown",
   "metadata": {},
   "source": [
    "numpy arrays can be defined in several ways.  Note that all elements in a numpy array are of the same data type.  Some Python data types can be used within numpy arrays, but numpy also defines its own data types.  The name __ndarray__ is short for __n__-__d__IMENSIONAL __array__.  dtype is short for data type."
   ]
  },
  {
   "cell_type": "code",
   "execution_count": null,
   "metadata": {},
   "outputs": [],
   "source": [
    "myList = [4,3,2,1]\n",
    "npMyList = np.array(myList)\n",
    "print(npMyList, type(npMyList))"
   ]
  },
  {
   "cell_type": "code",
   "execution_count": null,
   "metadata": {},
   "outputs": [],
   "source": [
    "npMyList.dtype"
   ]
  },
  {
   "cell_type": "code",
   "execution_count": null,
   "metadata": {},
   "outputs": [],
   "source": [
    "npMyList2 = np.array([1.1,2.2,3.3])\n",
    "print(npMyList2, type(npMyList2), npMyList2.dtype)"
   ]
  },
  {
   "cell_type": "code",
   "execution_count": null,
   "metadata": {},
   "outputs": [],
   "source": [
    "npMyList3 = np.array((0,1,2))\n",
    "npMyList3"
   ]
  },
  {
   "cell_type": "markdown",
   "metadata": {},
   "source": [
    "The numpy package has .zeros() and .ones() methods that can be used to create arrays of a desired dimension."
   ]
  },
  {
   "cell_type": "code",
   "execution_count": null,
   "metadata": {},
   "outputs": [],
   "source": [
    "x = np.zeros((2,2))\n",
    "x"
   ]
  },
  {
   "cell_type": "code",
   "execution_count": null,
   "metadata": {},
   "outputs": [],
   "source": [
    "y = np.ones((4,4))\n",
    "y"
   ]
  },
  {
   "cell_type": "markdown",
   "metadata": {},
   "source": [
    "An array representing an identity matrix can be created easily with numpy."
   ]
  },
  {
   "cell_type": "code",
   "execution_count": null,
   "metadata": {},
   "outputs": [],
   "source": [
    "z = np.identity(3)\n",
    "z"
   ]
  },
  {
   "cell_type": "code",
   "execution_count": null,
   "metadata": {},
   "outputs": [],
   "source": [
    "v = np.eye(2)\n",
    "v"
   ]
  },
  {
   "cell_type": "code",
   "execution_count": null,
   "metadata": {},
   "outputs": [],
   "source": [
    "t = np.diag([1,2,1,3])\n",
    "t"
   ]
  },
  {
   "cell_type": "code",
   "execution_count": null,
   "metadata": {},
   "outputs": [],
   "source": [
    "w = np.full((2,3),3)\n",
    "w"
   ]
  },
  {
   "cell_type": "markdown",
   "metadata": {},
   "source": [
    "Be careful with this next command: the data elements will be arbitrary.  They will be inherited from former data that were stored in memory."
   ]
  },
  {
   "cell_type": "code",
   "execution_count": null,
   "metadata": {},
   "outputs": [],
   "source": [
    "s = np.empty((3,3))  \n",
    "s"
   ]
  },
  {
   "cell_type": "code",
   "execution_count": null,
   "metadata": {},
   "outputs": [],
   "source": [
    "u = np.random.random((2,4))\n",
    "u"
   ]
  },
  {
   "cell_type": "markdown",
   "metadata": {},
   "source": [
    "You can specify what data type you want to use when you define a numpy array.  The dtype argument, as we've seen, is optional."
   ]
  },
  {
   "cell_type": "code",
   "execution_count": null,
   "metadata": {},
   "outputs": [],
   "source": [
    "myList = [4,3,2,1]\n",
    "npMyList1 = np.array(myList,dtype='float64')\n",
    "npMyList1"
   ]
  },
  {
   "cell_type": "markdown",
   "metadata": {},
   "source": [
    "For more on numpy data types: [https://docs.scipy.org/doc/numpy-1.14.0/reference/arrays.dtypes.html](https://docs.scipy.org/doc/numpy-1.14.0/reference/arrays.dtypes.html)"
   ]
  },
  {
   "cell_type": "markdown",
   "metadata": {},
   "source": [
    "# Using Basic numpy Array Properties and Methods"
   ]
  },
  {
   "cell_type": "markdown",
   "metadata": {},
   "source": [
    "## Properties"
   ]
  },
  {
   "cell_type": "code",
   "execution_count": null,
   "metadata": {},
   "outputs": [],
   "source": [
    "print('npMyList.dtype: ',npMyList.dtype)  # data type of array\n",
    "print('npMyList.shape: ',npMyList.shape)  # tuple with number of rows and columns in array\n",
    "print('npMyList.size: ',npMyList.size)    # total number of elements in the array"
   ]
  },
  {
   "cell_type": "markdown",
   "metadata": {},
   "source": [
    "## Methods"
   ]
  },
  {
   "cell_type": "code",
   "execution_count": null,
   "metadata": {},
   "outputs": [],
   "source": [
    "myList = [4,3,2,1]\n",
    "npMyList = np.array(myList,dtype='int32')\n",
    "\n",
    "print('npMyList.sum(): ',npMyList.sum())\n",
    "print('npMyList.cumsum(): ',npMyList.cumsum())\n",
    "print('npMyList.min(): ',npMyList.min())\n",
    "print('npMyList.max(): ',npMyList.max())\n",
    "print('npMyList.mean(): ',npMyList.mean())\n",
    "print('npMyList.prod(): ',npMyList.prod())\n",
    "print('npMyList.cumprod(): ',npMyList.cumprod())\n",
    "\n",
    "npMyList = np.sort(npMyList)\n",
    "print('npMyList sorted with np.sort(): ',npMyList)\n",
    "\n",
    "myList1 = npMyList.tolist()\n",
    "print('\\nmyList1 conversion using npMyList.tolist(): \\n',myList1,type(myList1),'\\n')\n",
    "#print(type(npMyList))\n",
    "\n",
    "npMyList.resize(2,2)\n",
    "print('\\nnpMyList resized with npMyList.resize(2,2): \\n',npMyList)\n",
    "print('npMyList.size: ',npMyList.size)\n",
    "print('npMyList.shape: ',npMyList.shape)\n",
    "\n",
    "npMyList = np.flip(npMyList,0)\n",
    "print('\\nnpMyList flipped: \\n',npMyList)"
   ]
  },
  {
   "cell_type": "markdown",
   "metadata": {},
   "source": [
    "# Accessing numpy Array Elements"
   ]
  },
  {
   "cell_type": "code",
   "execution_count": null,
   "metadata": {},
   "outputs": [],
   "source": [
    "myList = [4,3,2,1]\n",
    "npMyList = np.array(myList,dtype='int32')\n",
    "myList[1:4]"
   ]
  },
  {
   "cell_type": "code",
   "execution_count": null,
   "metadata": {},
   "outputs": [],
   "source": [
    "myList[-2:]"
   ]
  },
  {
   "cell_type": "code",
   "execution_count": null,
   "metadata": {},
   "outputs": [],
   "source": [
    "myList[:-2]"
   ]
  },
  {
   "cell_type": "code",
   "execution_count": null,
   "metadata": {},
   "outputs": [],
   "source": [
    "my4x4 = np.array([[0,1,2,3],[4,5,6,7],[8,9,10,11],[12,13,14,15]])\n",
    "my4x4"
   ]
  },
  {
   "cell_type": "code",
   "execution_count": null,
   "metadata": {},
   "outputs": [],
   "source": [
    "my4x4[2]"
   ]
  },
  {
   "cell_type": "code",
   "execution_count": null,
   "metadata": {},
   "outputs": [],
   "source": [
    "my4x4[2][1]"
   ]
  },
  {
   "cell_type": "code",
   "execution_count": null,
   "metadata": {},
   "outputs": [],
   "source": [
    "my4x4[2,1]"
   ]
  },
  {
   "cell_type": "code",
   "execution_count": null,
   "metadata": {},
   "outputs": [],
   "source": [
    "print(my4x4)\n",
    "my4x4[[0,2]]"
   ]
  },
  {
   "cell_type": "code",
   "execution_count": null,
   "metadata": {},
   "outputs": [],
   "source": [
    "my4x4[[0,2],[0,2]]"
   ]
  },
  {
   "cell_type": "markdown",
   "metadata": {},
   "source": [
    "# Numpy Math Functions"
   ]
  },
  {
   "cell_type": "markdown",
   "metadata": {},
   "source": [
    "Many numpy math functions perform the functions element by element, that is, element-wise.  Check out this reference for many other math functions: https://docs.scipy.org/doc/numpy-1.14.0/reference/routines.math.html"
   ]
  },
  {
   "cell_type": "code",
   "execution_count": null,
   "metadata": {},
   "outputs": [],
   "source": [
    "print(my4x4)\n",
    "np.sqrt(my4x4)"
   ]
  },
  {
   "cell_type": "markdown",
   "metadata": {
    "collapsed": true
   },
   "source": [
    "# numpy Linear Algebra\n",
    "\n",
    "This is not an exhaustive listing of all the numpy functionality for performing computations with vectors and matrices.  Its intention, instead, is to create awareness that numpy offers Linear Algebra capabilities so that those features may be explored later when the need arises.\n",
    "\n",
    "Note that numpy offers a matrix data type (formally, numpy.matrixlib.defmatrix.matrix).  This approach to vector-matrix computation has differences from the approach that will be shown in this notebook, which uses ndarrays.  The matrix data type  offers advantages, sometimes, but other times it presents disadvantages.  The reader is encouraged to investigate this alternate data type."
   ]
  },
  {
   "cell_type": "markdown",
   "metadata": {},
   "source": [
    "# Setting Up ndarrays"
   ]
  },
  {
   "cell_type": "code",
   "execution_count": null,
   "metadata": {
    "collapsed": true
   },
   "outputs": [],
   "source": [
    "import numpy as np\n",
    "from numpy import linalg"
   ]
  },
  {
   "cell_type": "code",
   "execution_count": null,
   "metadata": {},
   "outputs": [],
   "source": [
    "A = np.array([[1,5,0],[2,1,0],[0,0,3]])\n",
    "B = np.array([[1,1,1],[2,2,2],[1,3,5]])\n",
    "C = np.ones((3,3))\n",
    "print('\\nA:\\n',A)\n",
    "print('\\nB:\\n',B)\n",
    "print('\\nC:\\n',C)"
   ]
  },
  {
   "cell_type": "markdown",
   "metadata": {},
   "source": [
    "## Properties and Methods"
   ]
  },
  {
   "cell_type": "code",
   "execution_count": null,
   "metadata": {},
   "outputs": [],
   "source": [
    "print('\\nA.dtype: ',A.dtype)\n",
    "print('\\nA.shape: ',A.shape)\n",
    "print('\\nA.trace(): ',A.trace())\n",
    "print('\\nA.transpose()): \\n',A.transpose())\n",
    "print('\\nA.T: \\n',A.T)"
   ]
  },
  {
   "cell_type": "markdown",
   "metadata": {},
   "source": [
    "### numpy Linear Algebra Functions and Methods\n",
    "\n",
    "Much of numpy's linear algebra capability is included in the root numpy package or as a property or method of the ndarray data type.  However, some of numpy's linear algebra capabilties are in a sub-package called linalg.  There are two ways to access these capabilties using different import statements, using the computation of a matrix inverse as an example:\n",
    "\n",
    "-  Import numpy with this statement, import numpy as np, and then compute the inverse with np.linalg.inv()\n",
    "-  Import numpy.linalg with this statement, from numpy import linalg, and then compute the inverse with linalg.inv()"
   ]
  },
  {
   "cell_type": "code",
   "execution_count": null,
   "metadata": {},
   "outputs": [],
   "source": [
    "print('linalg.matrix_rank(C): ',linalg.matrix_rank(C))\n",
    "print('linalg.matrix_rank(B): ',linalg.matrix_rank(B))\n",
    "print('linalg.matrix_rank(A): ',linalg.matrix_rank(A))\n",
    "print('\\nlinalg.inv(A): \\n',linalg.inv(A))\n",
    "print('\\nlinalg.inv(A) * A\\n', linalg.inv(A).dot(A))"
   ]
  },
  {
   "cell_type": "code",
   "execution_count": null,
   "metadata": {},
   "outputs": [],
   "source": [
    "I = np.identity(3)\n",
    "I"
   ]
  },
  {
   "cell_type": "code",
   "execution_count": null,
   "metadata": {},
   "outputs": [],
   "source": [
    "X = np.random.random((3,3))\n",
    "X"
   ]
  },
  {
   "cell_type": "markdown",
   "metadata": {},
   "source": [
    ".dot is the numpy method for dot product."
   ]
  },
  {
   "cell_type": "code",
   "execution_count": null,
   "metadata": {},
   "outputs": [],
   "source": [
    "X.dot(I)"
   ]
  },
  {
   "cell_type": "code",
   "execution_count": null,
   "metadata": {},
   "outputs": [],
   "source": [
    "v = [[1],[3],[5]]\n",
    "v"
   ]
  },
  {
   "cell_type": "code",
   "execution_count": null,
   "metadata": {},
   "outputs": [],
   "source": [
    "I.dot(v)"
   ]
  },
  {
   "cell_type": "markdown",
   "metadata": {},
   "source": [
    "$\\lambda$ is said to be an eigenvalue of a matrix $A$ and $v$ its associated eigenvector if $Av = \\lambda v$\n",
    "\n",
    "We can gather the (column) eigenvectors $v$ into a matrix $V$ by stacking them side-by-side and, also, construct a matrix $\\Lambda$ whose diagonal elements are the individual eigenvalues in the same order corresponding with the columns of $V$ such that $A V = V \\Lambda$.    "
   ]
  },
  {
   "cell_type": "code",
   "execution_count": null,
   "metadata": {},
   "outputs": [],
   "source": [
    "print('Eigenvalues: ',linalg.eigvals(A))"
   ]
  },
  {
   "cell_type": "code",
   "execution_count": null,
   "metadata": {},
   "outputs": [],
   "source": [
    "print('Eigenvalues and Eigenvectors: ',linalg.eig(A))"
   ]
  },
  {
   "cell_type": "markdown",
   "metadata": {},
   "source": [
    "The eigenvalues and eigenvectors can be *unpacked* from the statement, linalg.eig(m3), into two variable one representing each entity in the following way."
   ]
  },
  {
   "cell_type": "code",
   "execution_count": null,
   "metadata": {},
   "outputs": [],
   "source": [
    "eigVals,V = linalg.eig(A)\n",
    "print(eigVals)\n",
    "print(V)"
   ]
  },
  {
   "cell_type": "markdown",
   "metadata": {},
   "source": [
    "The next cell computes $V \\Lambda$"
   ]
  },
  {
   "cell_type": "code",
   "execution_count": null,
   "metadata": {},
   "outputs": [],
   "source": [
    "Lambda = np.diag(eigVals)\n",
    "V.dot(Lambda)"
   ]
  },
  {
   "cell_type": "markdown",
   "metadata": {},
   "source": [
    "$V \\Lambda$ should be equal to $A V$, so let's check to verify.  Check, check!"
   ]
  },
  {
   "cell_type": "code",
   "execution_count": null,
   "metadata": {},
   "outputs": [],
   "source": [
    "A.dot(V)"
   ]
  },
  {
   "cell_type": "markdown",
   "metadata": {},
   "source": [
    "# A Story Problem\n",
    "\n",
    "Find a mix of cereals (number of grams each) that has 245 calories, 6 grams of protein, and 7 grams of fat.\n",
    "\n",
    "Nutritional info for cereals [calories,protein,fat]\n",
    "-  Cheerios [120, 4, 2]\n",
    "-  Cap’n Crunch [130, 3, 5]\n",
    "-  Rice Crispies [105, 1, 2]\n",
    "\n",
    "Solve Ax = b without using np.linalg.solve()\n",
    "-  A = [[120,130,105],[4,3,1],[2,5,2]]\n",
    "-  b = [245,6,7]\n",
    "\n",
    "Then, check with np.linalg.solve()"
   ]
  },
  {
   "cell_type": "code",
   "execution_count": null,
   "metadata": {
    "collapsed": true
   },
   "outputs": [],
   "source": [
    "import numpy as np\n",
    "from numpy import linalg\n",
    "A = np.array([[120,130,105],[4,3,1],[2,5,2]])\n",
    "b = np.array([245,6,7])"
   ]
  },
  {
   "cell_type": "code",
   "execution_count": null,
   "metadata": {
    "collapsed": true
   },
   "outputs": [],
   "source": [
    "# Put your solution to the first part of the problem in this cell"
   ]
  },
  {
   "cell_type": "code",
   "execution_count": null,
   "metadata": {
    "collapsed": true
   },
   "outputs": [],
   "source": [
    "# Use this cell to check your solution with np.linalg.solve()"
   ]
  },
  {
   "cell_type": "markdown",
   "metadata": {},
   "source": [
    "# Another Story Problem: Computing Customer Lifetime\n",
    "\n",
    "This example uses a Markov Model.  We will ignore many of the technical details for now. \n",
    "\n",
    "We will analyze a model of customer retention with linear algebra.  Assume that we have built a model of the life cycle of customers who shop on our company's Internet site.  Our model categorizes customers into one of four states:\n",
    "- Purchased within the last month (Category 0)\n",
    "- Last purchase was between within the last one to two months (Category 1)\n",
    "- Last purchase was between within the last two to three months(Category 2)\n",
    "- Has purchased previously, but not within the last three months (Category 3)\n",
    "\n",
    "This categorization recognizes that different tactics, at differing levels of effort and cost, are required to entice customers in each category to make subsequent purchases.  It also recognizes that once customers fall into the last category it is extremely unlikely that they will ever again pruchase anything from the website.\n",
    "\n",
    "We can build a matrix, $P$, whose rows and columns correspond to these four states, the elements of which correspond to the transition probability *from* the state associated with the row *to* the state associated with the column.\n",
    "\n",
    "\\begin{align}\n",
    "P = \\left[ \n",
    "\\begin{array}{ccccc}\n",
    "p_{00} & p_{01} & p_{02}& p_{03} \\\\\n",
    "p_{10} & p_{11} & p_{12}& p_{13} \\\\\n",
    "p_{20} & p_{21} & p_{22}& p_{23} \\\\\n",
    "p_{30} & p_{31} & p_{32}& p_{33} \n",
    "\\end{array}\n",
    "\\right]\n",
    "\\end{align}\n",
    "\n",
    "where $p_{xy}$ is the probability of a customer transtioning from category/state $x$ to state $y$.  Notice that\n",
    "\n",
    "\\begin{align}\n",
    "\\Sigma_{j=0}^3 p_{ij}  = 1\n",
    "\\end{align}\n",
    "\n",
    "for the probabilities in any row $i$ because a customer must transition to one of the categories.\n",
    "\n",
    "The research question of interest to the company is, given a certain set of transition probabilities reflected in $P$, how many months will a customer be active, that is, before they fall into the last category from which they cannot be resurrected as a customer?  Let the column vector $n$ have an element for each state/category which,for each state, is the average number of months a customer remains active (before they fall into the last category) after they are categorized as being in that state.  Thus, $n$ has four elements and we have said, already, that $n_3=0$ once a customer reaches Category 3.  Our task is to solve for $n$.  Since we know already that $n_3=0$, we can ignore computing that element and we can also ignore the corresponding elements in $P$, which specifically are the last row and the last column.  Thus, redefine $P$ as\n",
    "\n",
    "\\begin{align}\n",
    "P = \\left[ \n",
    "\\begin{array}{ccccc}\n",
    "p_{00} & p_{01} & p_{02} \\\\\n",
    "p_{10} & p_{11} & p_{12} \\\\\n",
    "p_{20} & p_{21} & p_{22}\n",
    "\\end{array}\n",
    "\\right]\n",
    "\\end{align}\n",
    "\n",
    "The solution for $n$ must satisfy these equations:\n",
    "\n",
    "\\begin{align}\n",
    "n_0 = 1 + \\sum_{i=0}^{2}{p_{0,i}n_i} \\\\\n",
    "n_1 = 1 + \\sum_{i=0}^{2}{p_{1,i}n_i} \\\\\n",
    "n_2 = 1 + \\sum_{i=0}^{2}{p_{2,i}n_i} \n",
    "\\end{align}\n",
    "\n",
    "If a customer is in any one of these states, we must add 1 month to their lifetime, as we do in the first term on the right-hand side of the equations.  Then, the customer transitons to one of the other states and experiences a remaining lifetime associated with that state, which is the second term on the right-hand side.  These are called a one-step equations.\n",
    "\n",
    "We can gather these equations and write them in matrix-vector form, where $\\textbf{1}$ is a vector of ones:\n",
    "\n",
    "\\begin{align}\n",
    "n = \\textbf{1} + Pn\n",
    "\\end{align}\n",
    "\n",
    "This equation can be rewritten in a number of ways:\n",
    "\n",
    "\\begin{align}\n",
    "\\left(I - P \\right) n = \\textbf{1} \\\\\n",
    "n = \\left(I - P \\right)^{-1} \\textbf{1} \n",
    "\\end{align}\n",
    "\n",
    "**We will demonstrate three ways to find a solution to this problem using the linalg subpackage of numpy, and in so doing illustrate several numpy functions and methods.**\n",
    "\n",
    "First, define the matrix $P$."
   ]
  },
  {
   "cell_type": "code",
   "execution_count": null,
   "metadata": {
    "collapsed": true
   },
   "outputs": [],
   "source": [
    "P = np.array([[0.3,0.7,0],[0.2,0.0,0.8],[0.1,0.0,0.0]])"
   ]
  },
  {
   "cell_type": "markdown",
   "metadata": {},
   "source": [
    "## Method 1 Using Many Computations\n",
    "\n",
    "Sparing the theory, if we initialize $n$ to any vector and apply the computation in the one-step formulation and infinite number of times we will converge to the solution.  As an approximation, I've iterated 1,000 times in this example.  Please make these observations: \n",
    "\n",
    "- The vector of ones was created with the np.ones() function using the dimension of the P matrix to size that vector properly.\n",
    "- The matrix-vector multiplation in the last term was accomplished with the numpy.ndarray.dot() method, which performs a dot product."
   ]
  },
  {
   "cell_type": "code",
   "execution_count": null,
   "metadata": {},
   "outputs": [],
   "source": [
    "n = np.array([[0.],[0.],[0.]])\n",
    "for i in range(1000):\n",
    "    n = np.ones((P.shape[0],1)) + P.dot(n)\n",
    "n"
   ]
  },
  {
   "cell_type": "markdown",
   "metadata": {},
   "source": [
    "So, once when a customer makes their first purchase their 'life' with the company about 4.5 months."
   ]
  },
  {
   "cell_type": "markdown",
   "metadata": {},
   "source": [
    "## Method 2: Use the numpy.linalg.solve() Function\n",
    "\n",
    "The function numpy.linalg.solve(A,b) will solve equations of the form $A x = b$ yielding $x$ given the matrix $A$ and column vector $b$ as arguments.  The equation in the problem description, $\\left(I - P \\right) n = \\textbf{1}$, is of that form.  This approach, reassuringly, yields the same result as the first approach.  "
   ]
  },
  {
   "cell_type": "code",
   "execution_count": null,
   "metadata": {},
   "outputs": [],
   "source": [
    "linalg.solve((np.identity(P.shape[0]) - P),np.ones((P.shape[0],1)))"
   ]
  },
  {
   "cell_type": "markdown",
   "metadata": {},
   "source": [
    "The result above corroborates the result from the first method."
   ]
  },
  {
   "cell_type": "markdown",
   "metadata": {},
   "source": [
    "## Method 3: Use the numpy.linalg.inv() Function to Compute the Inverse of a Matrix\n",
    "\n",
    "This approach solves this form of the problem, $n = \\left(I - P \\right)^{-1} \\textbf{1}$, but using numpy.linalg.inv() to take the inverse of $\\left(I - P \\right)$.  The numpy.ndarray.dot() method is, again, used for multiple a matrix by a vector."
   ]
  },
  {
   "cell_type": "code",
   "execution_count": null,
   "metadata": {},
   "outputs": [],
   "source": [
    "linalg.inv(np.identity(P.shape[0]) - P).dot(np.ones((P.shape[0],1)))"
   ]
  },
  {
   "cell_type": "markdown",
   "metadata": {},
   "source": [
    "## Verify the solution\n",
    "\n",
    "We check, here, to verify that this equation is satisfied:\n",
    "\n",
    "\\begin{align}\n",
    "n = \\textbf{1} + Pn\n",
    "\\end{align}\n",
    "\n",
    "First, assign the solution to a variable $n$ using Method 3, which is the left-hand side of the equation above."
   ]
  },
  {
   "cell_type": "code",
   "execution_count": null,
   "metadata": {},
   "outputs": [],
   "source": [
    "n = linalg.inv(np.identity(P.shape[0]) - P).dot(np.ones((P.shape[0],1)))\n",
    "n"
   ]
  },
  {
   "cell_type": "markdown",
   "metadata": {},
   "source": [
    "Next, compute $\\textbf{1} + Pn$, which is the right-hand side of the equation above."
   ]
  },
  {
   "cell_type": "code",
   "execution_count": null,
   "metadata": {},
   "outputs": [],
   "source": [
    "np.ones((P.shape[0],1)) + P.dot(n)"
   ]
  },
  {
   "cell_type": "code",
   "execution_count": null,
   "metadata": {
    "collapsed": true
   },
   "outputs": [],
   "source": []
  }
 ],
 "metadata": {
  "kernelspec": {
   "display_name": "Python 3",
   "language": "python",
   "name": "python3"
  },
  "language_info": {
   "codemirror_mode": {
    "name": "ipython",
    "version": 3
   },
   "file_extension": ".py",
   "mimetype": "text/x-python",
   "name": "python",
   "nbconvert_exporter": "python",
   "pygments_lexer": "ipython3",
   "version": "3.6.3"
  }
 },
 "nbformat": 4,
 "nbformat_minor": 2
}
