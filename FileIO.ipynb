{
 "cells": [
  {
   "cell_type": "markdown",
   "metadata": {},
   "source": [
    "# File Input\n",
    "This first code shows the basics of getting data in from a text file where the data elements are separated by commas.\n",
    "\n",
    "Note that the 'normal' backslash (\\) used in the Window operating system to separate successive levels of folders cannot be used in Python because the combination of the backslash and some letter constitute escape characters and will not be interpreted as you hope they will.  For example, \\n is a carriage return.  Either a double backslash (\\\\) or a forward slash can be used instead."
   ]
  },
  {
   "cell_type": "code",
   "execution_count": null,
   "metadata": {},
   "outputs": [],
   "source": [
    "f_in = open('C:/Users/jrbrad\\\\PythonBC\\\\sf.csv','r')\n",
    "#f_in = open('sf.csv','r')   # No path is needed if the data file is in the same folder as the program\n",
    "data = f_in.readlines()\n",
    "f_in.close()\n",
    "print(data)"
   ]
  },
  {
   "cell_type": "markdown",
   "metadata": {},
   "source": [
    "This next cell removes the carriage returns and separates the data elements at the commas.  It subsequently packs the data into a list of lists"
   ]
  },
  {
   "cell_type": "code",
   "execution_count": null,
   "metadata": {},
   "outputs": [],
   "source": [
    "f_in = open('C:/Users/jrbrad\\\\PythonBC\\\\sf.csv','r')\n",
    "#f_in = open('sf.csv','r')   # No path is needed if the data file is in the same folder as the program\n",
    "data = f_in.readlines()\n",
    "f_in.close()\n",
    "\n",
    "for i in range(len(data)):\n",
    "    data[i] = data[i].strip()\n",
    "    data[i] = data[i].split(',')\n",
    "    for j in range(len(data[i])):\n",
    "        if j == 1:\n",
    "            data[i][j] = float(data[i][j])\n",
    "        if j == 0:\n",
    "            data[i][j] = data[i][j][-5:]\n",
    "print(data)"
   ]
  },
  {
   "cell_type": "markdown",
   "metadata": {},
   "source": [
    "This code is more succinct."
   ]
  },
  {
   "cell_type": "code",
   "execution_count": null,
   "metadata": {},
   "outputs": [],
   "source": [
    "f_in = open('C:/Users/jrbrad\\\\PythonBC\\\\sf.csv','r')\n",
    "#f_in = open('sf.csv','r')   # No path is needed if the data file is in the same folder as the program\n",
    "data = f_in.readlines()\n",
    "f_in.close()\n",
    "\n",
    "for i in range(len(data)):\n",
    "    data[i] = data[i].strip().split(',')\n",
    "    data[i] = [data[i][0][-5:],float(data[i][1])]\n",
    "print(data)"
   ]
  },
  {
   "cell_type": "markdown",
   "metadata": {},
   "source": [
    "This code uses list comprehension to set up two series for plotting."
   ]
  },
  {
   "cell_type": "code",
   "execution_count": null,
   "metadata": {},
   "outputs": [],
   "source": [
    "f_in = open('C:/Users/jrbrad\\\\PythonBC\\\\sf.csv','r')\n",
    "#f_in = open('sf.csv','r')   # No path is needed if the data file is in the same folder as the program\n",
    "data = f_in.readlines()\n",
    "f_in.close()\n",
    "\n",
    "for i in range(len(data)):\n",
    "    data[i] = data[i].strip().split(',')\n",
    "    data[i] = [data[i][0][-5:],float(data[i][1])]\n",
    "    \n",
    "x = [datum[0] for datum in data]\n",
    "y = [datum[1] for datum in data]\n",
    "\n",
    "print(x)\n",
    "print(y)"
   ]
  },
  {
   "cell_type": "markdown",
   "metadata": {},
   "source": [
    "The time we have in the boot camp does not permit coverage of graphing but, nonetheless, here is how you might plot the data using the matplotlib package."
   ]
  },
  {
   "cell_type": "code",
   "execution_count": null,
   "metadata": {},
   "outputs": [],
   "source": [
    "%matplotlib inline\n",
    "import matplotlib.pyplot as plt\n",
    "\n",
    "f_in = open('C:/Users/jrbrad\\\\PythonBC\\\\sf.csv','r')\n",
    "#f_in = open('sf.csv','r')   # No path is needed if the data file is in the same folder as the program\n",
    "data = f_in.readlines()\n",
    "f_in.close()\n",
    "\n",
    "for i in range(len(data)):\n",
    "    data[i] = data[i].strip().split(',')\n",
    "    data[i] = [data[i][0][-5:],float(data[i][1])]\n",
    "    \n",
    "x = [datum[0] for datum in data]\n",
    "y = [datum[1] for datum in data]\n",
    "\n",
    "plt.plot(y)\n",
    "plt.suptitle('San Franciso, CA Housing Prices')\n",
    "plt.xlabel('YY-MM')\n",
    "plt.ylabel('Average Home Price ($)')\n",
    "plt.gcf().set_size_inches(12,6)\n",
    "p = 20\n",
    "plt.xticks(range(0,len(x),p),[x[i] for i in range(len(x)) if i % 20 == 0])\n",
    "plt.show()"
   ]
  },
  {
   "cell_type": "markdown",
   "metadata": {},
   "source": [
    "This is a simple example of outputting data to a file.  Here are some pointers:\n",
    "-  f_out.write takes only one argument and it must be string data\n",
    "-  The f_out.close() command must be used or the file will not be created."
   ]
  },
  {
   "cell_type": "code",
   "execution_count": null,
   "metadata": {
    "collapsed": true
   },
   "outputs": [],
   "source": [
    "f_out = open('out.txt','w')\n",
    "for i in range(10):\n",
    "    f_out.write(str(i)+'\\n')\n",
    "f_out.close()"
   ]
  },
  {
   "cell_type": "code",
   "execution_count": null,
   "metadata": {
    "collapsed": true
   },
   "outputs": [],
   "source": [
    "f_out = open('out1.txt','w')\n",
    "for i in range(10):\n",
    "    f_out.write(str(i)+','+str(i**2)+'\\n')\n",
    "f_out.close()"
   ]
  },
  {
   "cell_type": "code",
   "execution_count": null,
   "metadata": {
    "collapsed": true
   },
   "outputs": [],
   "source": []
  }
 ],
 "metadata": {
  "kernelspec": {
   "display_name": "Python 3",
   "language": "python",
   "name": "python3"
  },
  "language_info": {
   "codemirror_mode": {
    "name": "ipython",
    "version": 3
   },
   "file_extension": ".py",
   "mimetype": "text/x-python",
   "name": "python",
   "nbconvert_exporter": "python",
   "pygments_lexer": "ipython3",
   "version": "3.6.3"
  }
 },
 "nbformat": 4,
 "nbformat_minor": 2
}
