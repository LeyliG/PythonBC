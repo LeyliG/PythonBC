{
 "cells": [
  {
   "cell_type": "markdown",
   "metadata": {},
   "source": [
    "# Tuples"
   ]
  },
  {
   "cell_type": "code",
   "execution_count": null,
   "metadata": {},
   "outputs": [],
   "source": [
    "x = (0,1)\n",
    "print(x[0])"
   ]
  },
  {
   "cell_type": "code",
   "execution_count": null,
   "metadata": {},
   "outputs": [],
   "source": [
    "y = ((0,1),(2,3))\n",
    "print(y[0][1])"
   ]
  },
  {
   "cell_type": "code",
   "execution_count": null,
   "metadata": {},
   "outputs": [],
   "source": [
    "y = ((0,1),(2,3))\n",
    "del y[0]"
   ]
  },
  {
   "cell_type": "code",
   "execution_count": null,
   "metadata": {},
   "outputs": [],
   "source": [
    "y = ((0,1),(2,3))\n",
    "del y[0][1]"
   ]
  },
  {
   "cell_type": "code",
   "execution_count": null,
   "metadata": {},
   "outputs": [],
   "source": [
    "y = ((0,1),(2,3))\n",
    "y[0] = (4,5)\n",
    "print(y)"
   ]
  },
  {
   "cell_type": "code",
   "execution_count": null,
   "metadata": {},
   "outputs": [],
   "source": [
    "y = ((0,1),(2,3))\n",
    "y = (4,5)\n",
    "print(y)"
   ]
  },
  {
   "cell_type": "code",
   "execution_count": null,
   "metadata": {},
   "outputs": [],
   "source": [
    "t1 = (0)\n",
    "print(type(t1))\n",
    "print(t1)\n",
    "print(t1[0])"
   ]
  },
  {
   "cell_type": "code",
   "execution_count": null,
   "metadata": {},
   "outputs": [],
   "source": [
    "t2 = (0,)\n",
    "print(type(t2))\n",
    "print(t2)\n",
    "print(t2[0])"
   ]
  },
  {
   "cell_type": "code",
   "execution_count": null,
   "metadata": {},
   "outputs": [],
   "source": [
    "z = ([0,1],[2,3])\n",
    "print(z[0])\n",
    "print(z[0][1])\n",
    "del z[0]"
   ]
  },
  {
   "cell_type": "code",
   "execution_count": null,
   "metadata": {},
   "outputs": [],
   "source": [
    "del z[0][1]\n",
    "del z[0][0]\n",
    "print(z)"
   ]
  },
  {
   "cell_type": "code",
   "execution_count": null,
   "metadata": {},
   "outputs": [],
   "source": [
    "z = ((0,3),(2,2),(1,1))\n",
    "print(z)\n",
    "print(sorted(z))"
   ]
  },
  {
   "cell_type": "code",
   "execution_count": null,
   "metadata": {},
   "outputs": [],
   "source": [
    "z = ((0,3),(2,2),(1,1))\n",
    "z = sorted(z, key = lambda x:x[1])\n",
    "print(z)"
   ]
  },
  {
   "cell_type": "code",
   "execution_count": null,
   "metadata": {},
   "outputs": [],
   "source": [
    "m = (0,1)\n",
    "n = ([0,1],[2,3])\n",
    "p = (0,1,2)\n",
    "x1, x2 = m\n",
    "print(x1, x2)\n",
    "y1, y2 = n\n",
    "print(y1, y2)\n",
    "z1, z2 = p"
   ]
  },
  {
   "cell_type": "code",
   "execution_count": null,
   "metadata": {},
   "outputs": [],
   "source": [
    "myTuple = (0)\n",
    "print(len(myTuple))"
   ]
  },
  {
   "cell_type": "code",
   "execution_count": null,
   "metadata": {},
   "outputs": [],
   "source": [
    "myTuple = (0)\n",
    "print(len(myTuple[0]))"
   ]
  },
  {
   "cell_type": "code",
   "execution_count": null,
   "metadata": {
    "collapsed": true
   },
   "outputs": [],
   "source": [
    "categories = [['apple','fruit'],['pea','vegetable'],['orange','fruit'],['vegetable','carrot']]\n",
    "customers = [['Smith',512],['Brown',1096],[2154,'Green']]"
   ]
  },
  {
   "cell_type": "markdown",
   "metadata": {},
   "source": [
    "In-Class Exercise"
   ]
  },
  {
   "cell_type": "code",
   "execution_count": null,
   "metadata": {
    "collapsed": true
   },
   "outputs": [],
   "source": [
    "stores = ['Abingdon, VA', \n",
    "'Alexandria, VA', \n",
    "'Appomattox, VA', \n",
    "'Ashland, VA', \n",
    "'Blacksburg, VA', \n",
    "'Boones Mill, VA', \n",
    "'Bristol, VA', \n",
    "'Buena Vista, VA', \n",
    "'Charlotte Court House, VA', \n",
    "'Charlottesville, VA', \n",
    "'Chincoteague, VA', \n",
    "'Clinchco, VA', \n",
    "'Covington, VA', \n",
    "'Culpeper, VA', \n",
    "'Danville, VA', \n",
    "'Farmville, VA', \n",
    "'Edinburg, VA', \n",
    "'Fairfax, VA', \n",
    "'Franklin, VA', \n",
    "'Front Royal, VA', \n",
    "'Galax, VA', \n",
    "'Glasgow, VA', \n",
    "'Gordonsville, VA', \n",
    "'Hampton, VA', \n",
    "'Leesburg, VA']\n",
    "\n",
    "dcs = ['Sutherland, VA', 'Gordonsville, VA', 'Newport News, VA', 'Blacksburg, VA', 'Mechanicsburg, PA', 'Wheeling, WV']\n",
    "\n",
    "assign = [(0,0), (1,1), (3,2), (5,3), (2,4), (4,5), (4,6), (4,7), (5,8), (2,9), (2,10), (1,11), (1,12), (1,13), (3,14), (1,15), \n",
    "(4,16), (3,17), (4,18), (2,19), (2,20), (3,21), (2,22), (1,23), (3,24)]"
   ]
  },
  {
   "cell_type": "code",
   "execution_count": null,
   "metadata": {
    "collapsed": true
   },
   "outputs": [],
   "source": [
    "# write your code here"
   ]
  },
  {
   "cell_type": "code",
   "execution_count": null,
   "metadata": {
    "collapsed": true
   },
   "outputs": [],
   "source": []
  }
 ],
 "metadata": {
  "kernelspec": {
   "display_name": "Python 3",
   "language": "python",
   "name": "python3"
  },
  "language_info": {
   "codemirror_mode": {
    "name": "ipython",
    "version": 3
   },
   "file_extension": ".py",
   "mimetype": "text/x-python",
   "name": "python",
   "nbconvert_exporter": "python",
   "pygments_lexer": "ipython3",
   "version": "3.6.3"
  }
 },
 "nbformat": 4,
 "nbformat_minor": 2
}
