{
 "cells": [
  {
   "cell_type": "markdown",
   "metadata": {},
   "source": [
    "# Keyboard Input"
   ]
  },
  {
   "cell_type": "code",
   "execution_count": null,
   "metadata": {},
   "outputs": [],
   "source": [
    "costVar = input('Enter variable cost: ')\n",
    "costFixed = input('Enter fixed cost: ')\n",
    "hoursLabor = input('Enter labor hours: ')\n",
    "costTotal = costFixed + hoursLabor * costVar\n",
    "print(costTotal)"
   ]
  },
  {
   "cell_type": "code",
   "execution_count": null,
   "metadata": {},
   "outputs": [],
   "source": [
    "costVar = input('Enter variable cost: ')\n",
    "costFixed = input('Enter fixed cost: ')\n",
    "hoursLabor = input('Enter labor hours: ')\n",
    "costTotal = float(costFixed) + float(hoursLabor) * float(costVar)\n",
    "print(costTotal)"
   ]
  },
  {
   "cell_type": "code",
   "execution_count": null,
   "metadata": {
    "collapsed": true
   },
   "outputs": [],
   "source": []
  }
 ],
 "metadata": {
  "kernelspec": {
   "display_name": "Python 3",
   "language": "python",
   "name": "python3"
  },
  "language_info": {
   "codemirror_mode": {
    "name": "ipython",
    "version": 3
   },
   "file_extension": ".py",
   "mimetype": "text/x-python",
   "name": "python",
   "nbconvert_exporter": "python",
   "pygments_lexer": "ipython3",
   "version": "3.6.3"
  }
 },
 "nbformat": 4,
 "nbformat_minor": 2
}
