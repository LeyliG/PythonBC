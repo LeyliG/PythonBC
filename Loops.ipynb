{
 "cells": [
  {
   "cell_type": "markdown",
   "metadata": {},
   "source": [
    "# Loops"
   ]
  },
  {
   "cell_type": "markdown",
   "metadata": {},
   "source": [
    "## for Loops"
   ]
  },
  {
   "cell_type": "code",
   "execution_count": null,
   "metadata": {},
   "outputs": [],
   "source": [
    "for i in [3, 4, 5]:\n",
    "    print(i)"
   ]
  },
  {
   "cell_type": "code",
   "execution_count": null,
   "metadata": {},
   "outputs": [],
   "source": [
    "myList = [3, 4, 5]\n",
    "for i in myList:\n",
    "    print(i)"
   ]
  },
  {
   "cell_type": "code",
   "execution_count": null,
   "metadata": {},
   "outputs": [],
   "source": [
    "myList = [3, 4, 5]\n",
    "for i in range(len(myList)):\n",
    "    print(i,myList[i])"
   ]
  },
  {
   "cell_type": "code",
   "execution_count": null,
   "metadata": {},
   "outputs": [],
   "source": [
    "myListInt = [[0,1,2,3],[4,5,6,7],[8,9,10,11]]\n",
    "for i in range(len(myListInt)):\n",
    "    for j in range(len(myListInt[i])):\n",
    "        print(myListInt[i][j])"
   ]
  },
  {
   "cell_type": "code",
   "execution_count": null,
   "metadata": {},
   "outputs": [],
   "source": [
    "myListInt = [[0,1,2,3],[4,5,6,7],[8,9,10,11]]\n",
    "for row in myListInt:\n",
    "    for element in row:\n",
    "        print(element)"
   ]
  },
  {
   "cell_type": "markdown",
   "metadata": {},
   "source": [
    "## Modifying list elements in a loop\n",
    "Which one of these works?  Why?"
   ]
  },
  {
   "cell_type": "code",
   "execution_count": null,
   "metadata": {},
   "outputs": [],
   "source": [
    "myList = [3, 4, 5]\n",
    "for element in myList:\n",
    "    element += 1\n",
    "print(myList)"
   ]
  },
  {
   "cell_type": "code",
   "execution_count": null,
   "metadata": {},
   "outputs": [],
   "source": [
    "myList = [3, 4, 5]\n",
    "for i in range(len(myList)):\n",
    "    myList[i] += 1\n",
    "print(myList)"
   ]
  },
  {
   "cell_type": "markdown",
   "metadata": {},
   "source": [
    "Exercise Solution"
   ]
  },
  {
   "cell_type": "code",
   "execution_count": null,
   "metadata": {},
   "outputs": [],
   "source": [
    "a = [[0,1,2],[3,4,5],[6,7,8]]\n",
    "b = [[0,0,0],[0,0,0],[0,0,0]]\n",
    "for i in range(len(a)):\n",
    "    for j in range(len(a[i])):\n",
    "        b[j][i]=a[i][j]\n",
    "print(a)\n",
    "print(b)"
   ]
  },
  {
   "cell_type": "markdown",
   "metadata": {},
   "source": [
    "# While Loops"
   ]
  },
  {
   "cell_type": "code",
   "execution_count": null,
   "metadata": {},
   "outputs": [],
   "source": [
    "keep_going = True\n",
    "i = 0\n",
    "while keep_going == True:\n",
    "    i = i + 1\n",
    "    print(i**2)\n",
    "    if i**2 >= 100:\n",
    "        keep_going = False"
   ]
  },
  {
   "cell_type": "markdown",
   "metadata": {},
   "source": [
    "An improvement"
   ]
  },
  {
   "cell_type": "code",
   "execution_count": null,
   "metadata": {},
   "outputs": [],
   "source": [
    "keep_going = True\n",
    "i = 0\n",
    "while keep_going:\n",
    "    i = i + 1\n",
    "    print(i**2)\n",
    "    if i**2 >= 100:\n",
    "        keep_going = False"
   ]
  },
  {
   "cell_type": "markdown",
   "metadata": {},
   "source": [
    "In-Class Exercise"
   ]
  },
  {
   "cell_type": "code",
   "execution_count": null,
   "metadata": {
    "collapsed": true
   },
   "outputs": [],
   "source": []
  },
  {
   "cell_type": "markdown",
   "metadata": {},
   "source": [
    "Machine Precision"
   ]
  },
  {
   "cell_type": "code",
   "execution_count": null,
   "metadata": {},
   "outputs": [],
   "source": [
    "base = 1.0\n",
    "counter = 0\n",
    "diff = True\n",
    "\n",
    "while diff:\n",
    "    counter += 1\n",
    "    increment = 1/pow(2.0,counter)\n",
    "    if base + increment == base:\n",
    "        diff = False\n",
    "print(counter - 1, 1/pow(2.0,counter-1))"
   ]
  },
  {
   "cell_type": "code",
   "execution_count": null,
   "metadata": {},
   "outputs": [],
   "source": [
    "base = 1.0\n",
    "counter = 0\n",
    "diff = True\n",
    "\n",
    "while diff:\n",
    "    counter += 1\n",
    "    increment = 1/pow(2.0,counter)\n",
    "    if base + increment > base:\n",
    "        continue\n",
    "    else:\n",
    "        break\n",
    "print(counter - 1, 1/pow(2.0,counter-1))"
   ]
  },
  {
   "cell_type": "code",
   "execution_count": null,
   "metadata": {},
   "outputs": [],
   "source": [
    "base = 1.0\n",
    "counter = 0\n",
    "diff = True\n",
    "\n",
    "while diff:\n",
    "    counter += 1\n",
    "    increment = 1/pow(2.0,counter)\n",
    "    if base + increment == base:\n",
    "        break\n",
    "print(counter - 1, 1/pow(2.0,counter-1))"
   ]
  },
  {
   "cell_type": "code",
   "execution_count": null,
   "metadata": {
    "collapsed": true
   },
   "outputs": [],
   "source": []
  },
  {
   "cell_type": "code",
   "execution_count": null,
   "metadata": {
    "collapsed": true
   },
   "outputs": [],
   "source": []
  },
  {
   "cell_type": "code",
   "execution_count": null,
   "metadata": {
    "collapsed": true
   },
   "outputs": [],
   "source": []
  },
  {
   "cell_type": "code",
   "execution_count": null,
   "metadata": {
    "collapsed": true
   },
   "outputs": [],
   "source": []
  },
  {
   "cell_type": "code",
   "execution_count": null,
   "metadata": {
    "collapsed": true
   },
   "outputs": [],
   "source": []
  }
 ],
 "metadata": {
  "kernelspec": {
   "display_name": "Python 3",
   "language": "python",
   "name": "python3"
  },
  "language_info": {
   "codemirror_mode": {
    "name": "ipython",
    "version": 3
   },
   "file_extension": ".py",
   "mimetype": "text/x-python",
   "name": "python",
   "nbconvert_exporter": "python",
   "pygments_lexer": "ipython3",
   "version": "3.6.3"
  }
 },
 "nbformat": 4,
 "nbformat_minor": 2
}
