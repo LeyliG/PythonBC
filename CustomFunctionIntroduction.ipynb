{
 "cells": [
  {
   "cell_type": "code",
   "execution_count": null,
   "metadata": {
    "collapsed": true
   },
   "outputs": [],
   "source": [
    "def sqr(z):\n",
    "    return z**2"
   ]
  },
  {
   "cell_type": "code",
   "execution_count": null,
   "metadata": {},
   "outputs": [],
   "source": [
    "x = 2\n",
    "y = sqr(x)\n",
    "print(x,'\\n',y)"
   ]
  },
  {
   "cell_type": "code",
   "execution_count": null,
   "metadata": {},
   "outputs": [],
   "source": [
    "s = 3\n",
    "print(s,sqr(s))"
   ]
  },
  {
   "cell_type": "code",
   "execution_count": null,
   "metadata": {
    "collapsed": true
   },
   "outputs": [],
   "source": [
    "x = 2\n",
    "y = x**2\n",
    "print(x,y)\n",
    "print(\"Do more computations\")\n",
    "x = 39\n",
    "y = x**2\n",
    "print(\"Do, still more computations\")\n",
    "print(x,y)\n",
    "x = 12\n",
    "y = x**2\n",
    "print(\"Do last computations\")\n",
    "print(x,y)"
   ]
  },
  {
   "cell_type": "code",
   "execution_count": null,
   "metadata": {},
   "outputs": [],
   "source": [
    "def check_data(data_in):\n",
    "    valid_input = True\n",
    "    try:\n",
    "        data_in = float(data_in)\n",
    "    except:\n",
    "        valid_input = False\n",
    "    return valid_input, data_in\n",
    "\n",
    "costVar = input('Enter variable cost: ')\n",
    "valid_input1, costVar = check_data(costVar)\n",
    "    \n",
    "costFixed = input('Enter fixed cost: ')\n",
    "valid_input2, costFixed = check_data(costFixed)\n",
    "    \n",
    "hoursLabor = input('Enter labor hours: ')\n",
    "valid_input3, hoursLabor = check_data(hoursLabor)\n",
    "    \n",
    "if valid_input1 and valid_input2 and valid_input3  == True:\n",
    "    costTotal = costFixed + hoursLabor * costVar\n",
    "    print('Total cost = ',costTotal)\n",
    "else:\n",
    "    print(\"Invalid data\")"
   ]
  },
  {
   "cell_type": "code",
   "execution_count": null,
   "metadata": {},
   "outputs": [],
   "source": [
    "def check_data(data_in, valid):\n",
    "    try:\n",
    "        data_in = float(data_in)\n",
    "    except:\n",
    "        valid = False\n",
    "    return valid, data_in\n",
    "\n",
    "valid_input = True\n",
    "costVar = input('Enter variable cost: ')\n",
    "valid_input, costVar = check_data(costVar,valid_input)\n",
    "    \n",
    "costFixed = input('Enter fixed cost: ')\n",
    "valid_input, costFixed = check_data(costFixed,valid_input)\n",
    "    \n",
    "hoursLabor = input('Enter labor hours: ')\n",
    "valid_input, hoursLabor = check_data(hoursLabor,valid_input)\n",
    "    \n",
    "if valid_input == True:\n",
    "    costTotal = costFixed + hoursLabor * costVar\n",
    "    print('Total cost = ',costTotal)\n",
    "else:\n",
    "    print(\"Invalid data\")"
   ]
  },
  {
   "cell_type": "code",
   "execution_count": null,
   "metadata": {},
   "outputs": [],
   "source": [
    "def check_data(data_in, valid):\n",
    "    try:\n",
    "        data_in = float(data_in)\n",
    "    except:\n",
    "        valid = False\n",
    "    return valid, data_in\n",
    "\n",
    "valid_input = True\n",
    "costVar = input('Enter variable cost: ')\n",
    "valid_input, costVar = check_data(costVar,valid_input)\n",
    "    \n",
    "costFixed = input('Enter fixed cost: ')\n",
    "valid_input, costFixed = check_data(costFixed,valid_input)\n",
    "    \n",
    "hoursLabor = input('Enter labor hours: ')\n",
    "valid_input, hoursLabor = check_data(hoursLabor,valid_input)\n",
    "    \n",
    "if valid_input:\n",
    "    costTotal = costFixed + hoursLabor * costVar\n",
    "    print('Total cost = ',costTotal)\n",
    "else:\n",
    "    print(\"Invalid data\")"
   ]
  },
  {
   "cell_type": "code",
   "execution_count": null,
   "metadata": {},
   "outputs": [],
   "source": [
    "def print_me_void(x):\n",
    "    print(x)\n",
    "    \n",
    "def return_something():\n",
    "    return 'Hello'\n",
    "    \n",
    "def return_something_mult_2(x):\n",
    "    return 2*x\n",
    "    \n",
    "test = print_me_void(2)\n",
    "print(test)\n",
    "\n",
    "test = return_something()\n",
    "print(test)\n",
    "\n",
    "test = return_something_mult_2(7)\n",
    "print(test)\n",
    "print(return_something_mult_2(7))"
   ]
  },
  {
   "cell_type": "code",
   "execution_count": null,
   "metadata": {},
   "outputs": [],
   "source": [
    "sqr = lambda x:x**2\n",
    "print(sqr(2))"
   ]
  },
  {
   "cell_type": "code",
   "execution_count": null,
   "metadata": {
    "collapsed": true
   },
   "outputs": [],
   "source": [
    "\"\""
   ]
  }
 ],
 "metadata": {
  "kernelspec": {
   "display_name": "Python 3",
   "language": "python",
   "name": "python3"
  },
  "language_info": {
   "codemirror_mode": {
    "name": "ipython",
    "version": 3
   },
   "file_extension": ".py",
   "mimetype": "text/x-python",
   "name": "python",
   "nbconvert_exporter": "python",
   "pygments_lexer": "ipython3",
   "version": "3.6.3"
  }
 },
 "nbformat": 4,
 "nbformat_minor": 2
}
