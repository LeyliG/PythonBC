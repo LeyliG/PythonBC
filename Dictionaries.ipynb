{
 "cells": [
  {
   "cell_type": "markdown",
   "metadata": {},
   "source": [
    "# Dictionaries"
   ]
  },
  {
   "cell_type": "code",
   "execution_count": null,
   "metadata": {},
   "outputs": [],
   "source": [
    "myDiction = {'zero':0,'one':1, 'two':2}\n",
    "print(myDiction ['zero'])"
   ]
  },
  {
   "cell_type": "code",
   "execution_count": null,
   "metadata": {},
   "outputs": [],
   "source": [
    "myDiction ['zero'] = 99\n",
    "print(myDiction)"
   ]
  },
  {
   "cell_type": "code",
   "execution_count": null,
   "metadata": {},
   "outputs": [],
   "source": [
    "len(myDiction)"
   ]
  },
  {
   "cell_type": "code",
   "execution_count": null,
   "metadata": {},
   "outputs": [],
   "source": [
    "print(myDiction.keys())"
   ]
  },
  {
   "cell_type": "code",
   "execution_count": null,
   "metadata": {},
   "outputs": [],
   "source": [
    "myDiction.values()"
   ]
  },
  {
   "cell_type": "markdown",
   "metadata": {},
   "source": [
    "## Iterating though Dictionaries"
   ]
  },
  {
   "cell_type": "code",
   "execution_count": null,
   "metadata": {},
   "outputs": [],
   "source": [
    "for thisKey in myDiction:\n",
    "    print(thisKey,':',myDiction[thisKey])"
   ]
  },
  {
   "cell_type": "code",
   "execution_count": null,
   "metadata": {},
   "outputs": [],
   "source": [
    "myDiction = {'zero':0,'one':1, 'two':2}\n",
    "\n",
    "keyList = list(myDiction.keys())\n",
    "keyList.sort()\n",
    "for thisKey in keyList:\n",
    "    print(thisKey,':',myDiction[thisKey])"
   ]
  },
  {
   "cell_type": "code",
   "execution_count": null,
   "metadata": {},
   "outputs": [],
   "source": [
    "for key,value in myDiction.items():\n",
    "    print(key,':', value)"
   ]
  },
  {
   "cell_type": "code",
   "execution_count": null,
   "metadata": {},
   "outputs": [],
   "source": [
    "myDiction = {'zero':0,'one':1, 'two':2}\n",
    "keyList = myDiction.keys()\n",
    "print(\"Find key = 'zero':\",'zero' in keyList)"
   ]
  },
  {
   "cell_type": "code",
   "execution_count": null,
   "metadata": {},
   "outputs": [],
   "source": [
    "myDiction = {'zero':0,'one':1, 'two':2}\n",
    "words = ['uno','dos','tres','quatro','cero', 'zero', 'one', 'zwei']\n",
    "for word in words:\n",
    "    if word in myDiction.keys():\n",
    "        print(str(word)+':'+str(myDiction[word]))"
   ]
  },
  {
   "cell_type": "code",
   "execution_count": null,
   "metadata": {},
   "outputs": [],
   "source": [
    "myDiction = {'zero':0,'one':1, 'two':2}\n",
    "\n",
    "print(\"Find value = 0:\", 0 in myDiction.values())\n",
    "print(\"Find value = 2:\", 2 in myDiction.values())\n",
    "print(\"Find values = (0,2):\", 2 in myDiction.values() \\\n",
    "    and 0 in myDiction.values())\n",
    "print(\"Find value = 3:\", 3 in myDiction.values())"
   ]
  },
  {
   "cell_type": "markdown",
   "metadata": {},
   "source": [
    "## Creating Histograms with Dictionaries"
   ]
  },
  {
   "cell_type": "code",
   "execution_count": null,
   "metadata": {},
   "outputs": [],
   "source": [
    "myList = [0,1,3,5,2,3,1,0,0,3,4,5]\n",
    "hist = {}\n",
    "\n",
    "for thisElement in myList:\n",
    "    hist[thisElement] = hist[thisElement] + 1"
   ]
  },
  {
   "cell_type": "code",
   "execution_count": null,
   "metadata": {},
   "outputs": [],
   "source": [
    "myList = [0,1,3,5,2,3,1,0,0,3,4,5]\n",
    "hist = {}\n",
    "\n",
    "for thisElement in myList:\n",
    "    if thisElement in hist.keys():\n",
    "        hist[thisElement] = hist[thisElement] + 1\n",
    "    else:\n",
    "        hist[thisElement] =  1\n",
    "        \n",
    "print(hist)"
   ]
  },
  {
   "cell_type": "code",
   "execution_count": null,
   "metadata": {},
   "outputs": [],
   "source": [
    "myList = [0,1,3,5,2,3,1,0,0,3,4,5]\n",
    "hist = {}\n",
    "\n",
    "for thisElement in myList:\n",
    "    hist[thisElement] = hist.get(thisElement,0) + 1\n",
    "        \n",
    "print(hist)"
   ]
  },
  {
   "cell_type": "markdown",
   "metadata": {
    "collapsed": true
   },
   "source": [
    "# Dictionary Comprehension"
   ]
  },
  {
   "cell_type": "code",
   "execution_count": null,
   "metadata": {},
   "outputs": [],
   "source": [
    "numeralSpan = ['cero', 'uno', 'dos', 'tres', 'quatro']\n",
    "dictSpan = {k:numeralSpan[k] for k in range(len(numeralSpan))}\n",
    "dictSpan"
   ]
  },
  {
   "cell_type": "code",
   "execution_count": null,
   "metadata": {},
   "outputs": [],
   "source": [
    "dictSpanShort = {k:v for k,v in dictSpan.items() if k <= 2}\n",
    "dictSpanShort"
   ]
  },
  {
   "cell_type": "code",
   "execution_count": null,
   "metadata": {
    "collapsed": true
   },
   "outputs": [],
   "source": []
  }
 ],
 "metadata": {
  "kernelspec": {
   "display_name": "Python 3",
   "language": "python",
   "name": "python3"
  },
  "language_info": {
   "codemirror_mode": {
    "name": "ipython",
    "version": 3
   },
   "file_extension": ".py",
   "mimetype": "text/x-python",
   "name": "python",
   "nbconvert_exporter": "python",
   "pygments_lexer": "ipython3",
   "version": "3.6.3"
  }
 },
 "nbformat": 4,
 "nbformat_minor": 2
}
